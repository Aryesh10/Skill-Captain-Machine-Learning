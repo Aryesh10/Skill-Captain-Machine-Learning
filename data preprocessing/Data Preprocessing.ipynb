{
 "cells": [
  {
   "cell_type": "code",
   "execution_count": 3,
   "id": "df2e3d5f-013f-4f92-b0df-ca9fa2a8529e",
   "metadata": {},
   "outputs": [],
   "source": [
    "import pandas as pd \n",
    "import numpy as np \n",
    "from sklearn.preprocessing import MinMaxScaler, LabelEncoder\n",
    "\n",
    "data= {\n",
    "    \"Student\": [\"A\", \"B\", \"C\", \"D\", \"E\", \"F\", \"G\"],\n",
    "    \"Math_Score\": [85, 78, 90, 85, 95, 78, 88],\n",
    "    \"Study_Hours\": [10, 8, 12, 6, 15, 2, 11],\n",
    "    \"Study_Group\": [\"Intermediate\", \"Beginner\", \"Advanced\", \"Beginner\", \"Advanced\", \"Beginner\", \"Intermediate\"],\n",
    "}\n"
   ]
  },
  {
   "cell_type": "code",
   "execution_count": 5,
   "id": "8a69e938-3e06-4ff1-9d74-afc532fea966",
   "metadata": {},
   "outputs": [
    {
     "data": {
      "text/html": [
       "<div>\n",
       "<style scoped>\n",
       "    .dataframe tbody tr th:only-of-type {\n",
       "        vertical-align: middle;\n",
       "    }\n",
       "\n",
       "    .dataframe tbody tr th {\n",
       "        vertical-align: top;\n",
       "    }\n",
       "\n",
       "    .dataframe thead th {\n",
       "        text-align: right;\n",
       "    }\n",
       "</style>\n",
       "<table border=\"1\" class=\"dataframe\">\n",
       "  <thead>\n",
       "    <tr style=\"text-align: right;\">\n",
       "      <th></th>\n",
       "      <th>Student</th>\n",
       "      <th>Math_Score</th>\n",
       "      <th>Study_Hours</th>\n",
       "      <th>Study_Group</th>\n",
       "    </tr>\n",
       "  </thead>\n",
       "  <tbody>\n",
       "    <tr>\n",
       "      <th>0</th>\n",
       "      <td>A</td>\n",
       "      <td>85</td>\n",
       "      <td>10</td>\n",
       "      <td>Intermediate</td>\n",
       "    </tr>\n",
       "    <tr>\n",
       "      <th>1</th>\n",
       "      <td>B</td>\n",
       "      <td>78</td>\n",
       "      <td>8</td>\n",
       "      <td>Beginner</td>\n",
       "    </tr>\n",
       "    <tr>\n",
       "      <th>2</th>\n",
       "      <td>C</td>\n",
       "      <td>90</td>\n",
       "      <td>12</td>\n",
       "      <td>Advanced</td>\n",
       "    </tr>\n",
       "    <tr>\n",
       "      <th>3</th>\n",
       "      <td>D</td>\n",
       "      <td>85</td>\n",
       "      <td>6</td>\n",
       "      <td>Beginner</td>\n",
       "    </tr>\n",
       "    <tr>\n",
       "      <th>4</th>\n",
       "      <td>E</td>\n",
       "      <td>95</td>\n",
       "      <td>15</td>\n",
       "      <td>Advanced</td>\n",
       "    </tr>\n",
       "  </tbody>\n",
       "</table>\n",
       "</div>"
      ],
      "text/plain": [
       "  Student  Math_Score  Study_Hours   Study_Group\n",
       "0       A          85           10  Intermediate\n",
       "1       B          78            8      Beginner\n",
       "2       C          90           12      Advanced\n",
       "3       D          85            6      Beginner\n",
       "4       E          95           15      Advanced"
      ]
     },
     "execution_count": 5,
     "metadata": {},
     "output_type": "execute_result"
    }
   ],
   "source": [
    "df = pd.DataFrame(data)\n",
    "df.head()"
   ]
  },
  {
   "cell_type": "code",
   "execution_count": 6,
   "id": "37553db0-af56-4af3-b763-0a56187bbe24",
   "metadata": {},
   "outputs": [
    {
     "name": "stdout",
     "output_type": "stream",
     "text": [
      "Mean = 85.57142857142857 , Median=85.0, Mode=78\n"
     ]
    }
   ],
   "source": [
    "mean_math = np.mean(df[\"Math_Score\"])\n",
    "median_math = np.median(df[\"Math_Score\"])\n",
    "mode_math = df[\"Math_Score\"].mode()[0]\n",
    "\n",
    "print(f\"Mean = {mean_math} , Median={median_math}, Mode={mode_math}\")"
   ]
  },
  {
   "cell_type": "code",
   "execution_count": 9,
   "id": "8bdeee48-2261-4458-90cd-34c2e896b723",
   "metadata": {},
   "outputs": [
    {
     "data": {
      "text/html": [
       "<div>\n",
       "<style scoped>\n",
       "    .dataframe tbody tr th:only-of-type {\n",
       "        vertical-align: middle;\n",
       "    }\n",
       "\n",
       "    .dataframe tbody tr th {\n",
       "        vertical-align: top;\n",
       "    }\n",
       "\n",
       "    .dataframe thead th {\n",
       "        text-align: right;\n",
       "    }\n",
       "</style>\n",
       "<table border=\"1\" class=\"dataframe\">\n",
       "  <thead>\n",
       "    <tr style=\"text-align: right;\">\n",
       "      <th></th>\n",
       "      <th>Student</th>\n",
       "      <th>Math_Score</th>\n",
       "      <th>Study_Hours</th>\n",
       "      <th>Study_Group</th>\n",
       "      <th>Normalized_study_hours</th>\n",
       "    </tr>\n",
       "  </thead>\n",
       "  <tbody>\n",
       "    <tr>\n",
       "      <th>0</th>\n",
       "      <td>A</td>\n",
       "      <td>85</td>\n",
       "      <td>10</td>\n",
       "      <td>Intermediate</td>\n",
       "      <td>0.615385</td>\n",
       "    </tr>\n",
       "    <tr>\n",
       "      <th>1</th>\n",
       "      <td>B</td>\n",
       "      <td>78</td>\n",
       "      <td>8</td>\n",
       "      <td>Beginner</td>\n",
       "      <td>0.461538</td>\n",
       "    </tr>\n",
       "    <tr>\n",
       "      <th>2</th>\n",
       "      <td>C</td>\n",
       "      <td>90</td>\n",
       "      <td>12</td>\n",
       "      <td>Advanced</td>\n",
       "      <td>0.769231</td>\n",
       "    </tr>\n",
       "    <tr>\n",
       "      <th>3</th>\n",
       "      <td>D</td>\n",
       "      <td>85</td>\n",
       "      <td>6</td>\n",
       "      <td>Beginner</td>\n",
       "      <td>0.307692</td>\n",
       "    </tr>\n",
       "    <tr>\n",
       "      <th>4</th>\n",
       "      <td>E</td>\n",
       "      <td>95</td>\n",
       "      <td>15</td>\n",
       "      <td>Advanced</td>\n",
       "      <td>1.000000</td>\n",
       "    </tr>\n",
       "  </tbody>\n",
       "</table>\n",
       "</div>"
      ],
      "text/plain": [
       "  Student  Math_Score  Study_Hours   Study_Group  Normalized_study_hours\n",
       "0       A          85           10  Intermediate                0.615385\n",
       "1       B          78            8      Beginner                0.461538\n",
       "2       C          90           12      Advanced                0.769231\n",
       "3       D          85            6      Beginner                0.307692\n",
       "4       E          95           15      Advanced                1.000000"
      ]
     },
     "execution_count": 9,
     "metadata": {},
     "output_type": "execute_result"
    }
   ],
   "source": [
    "scaler = MinMaxScaler(feature_range=(0,1))\n",
    "df[\"Normalized_study_hours\"]=scaler.fit_transform(df[[\"Study_Hours\"]])\n",
    "df.head()"
   ]
  },
  {
   "cell_type": "code",
   "execution_count": 11,
   "id": "8783cff7-3932-4511-b0fa-ab5326a3d465",
   "metadata": {},
   "outputs": [
    {
     "name": "stdout",
     "output_type": "stream",
     "text": [
      "Normalized Study_Hours:\n",
      "[0.615, 0.462, 0.769, 0.308, 1.0, 0.0, 0.692]\n"
     ]
    }
   ],
   "source": [
    "print(\"Normalized Study_Hours:\")\n",
    "print(df[\"Normalized_study_hours\"].round(3).tolist())"
   ]
  },
  {
   "cell_type": "code",
   "execution_count": 13,
   "id": "bf095d88-a07c-403e-9aa4-96ddbb21e9c2",
   "metadata": {},
   "outputs": [
    {
     "data": {
      "text/html": [
       "<div>\n",
       "<style scoped>\n",
       "    .dataframe tbody tr th:only-of-type {\n",
       "        vertical-align: middle;\n",
       "    }\n",
       "\n",
       "    .dataframe tbody tr th {\n",
       "        vertical-align: top;\n",
       "    }\n",
       "\n",
       "    .dataframe thead th {\n",
       "        text-align: right;\n",
       "    }\n",
       "</style>\n",
       "<table border=\"1\" class=\"dataframe\">\n",
       "  <thead>\n",
       "    <tr style=\"text-align: right;\">\n",
       "      <th></th>\n",
       "      <th>Student</th>\n",
       "      <th>Math_Score</th>\n",
       "      <th>Study_Hours</th>\n",
       "      <th>Study_Group</th>\n",
       "      <th>Normalized_study_hours</th>\n",
       "      <th>Binned_Study_Hours</th>\n",
       "    </tr>\n",
       "  </thead>\n",
       "  <tbody>\n",
       "    <tr>\n",
       "      <th>0</th>\n",
       "      <td>A</td>\n",
       "      <td>85</td>\n",
       "      <td>10</td>\n",
       "      <td>Intermediate</td>\n",
       "      <td>0.615385</td>\n",
       "      <td>Medium</td>\n",
       "    </tr>\n",
       "    <tr>\n",
       "      <th>1</th>\n",
       "      <td>B</td>\n",
       "      <td>78</td>\n",
       "      <td>8</td>\n",
       "      <td>Beginner</td>\n",
       "      <td>0.461538</td>\n",
       "      <td>Medium</td>\n",
       "    </tr>\n",
       "    <tr>\n",
       "      <th>2</th>\n",
       "      <td>C</td>\n",
       "      <td>90</td>\n",
       "      <td>12</td>\n",
       "      <td>Advanced</td>\n",
       "      <td>0.769231</td>\n",
       "      <td>High</td>\n",
       "    </tr>\n",
       "    <tr>\n",
       "      <th>3</th>\n",
       "      <td>D</td>\n",
       "      <td>85</td>\n",
       "      <td>6</td>\n",
       "      <td>Beginner</td>\n",
       "      <td>0.307692</td>\n",
       "      <td>Medium</td>\n",
       "    </tr>\n",
       "    <tr>\n",
       "      <th>4</th>\n",
       "      <td>E</td>\n",
       "      <td>95</td>\n",
       "      <td>15</td>\n",
       "      <td>Advanced</td>\n",
       "      <td>1.000000</td>\n",
       "      <td>High</td>\n",
       "    </tr>\n",
       "  </tbody>\n",
       "</table>\n",
       "</div>"
      ],
      "text/plain": [
       "  Student  Math_Score  Study_Hours   Study_Group  Normalized_study_hours  \\\n",
       "0       A          85           10  Intermediate                0.615385   \n",
       "1       B          78            8      Beginner                0.461538   \n",
       "2       C          90           12      Advanced                0.769231   \n",
       "3       D          85            6      Beginner                0.307692   \n",
       "4       E          95           15      Advanced                1.000000   \n",
       "\n",
       "  Binned_Study_Hours  \n",
       "0             Medium  \n",
       "1             Medium  \n",
       "2               High  \n",
       "3             Medium  \n",
       "4               High  "
      ]
     },
     "execution_count": 13,
     "metadata": {},
     "output_type": "execute_result"
    }
   ],
   "source": [
    "def bin_study_hours(hours):\n",
    "    if hours <= 5:\n",
    "        return \"Low\"\n",
    "    elif 6 <= hours <= 10:\n",
    "        return \"Medium\"\n",
    "    else:\n",
    "        return \"High\"\n",
    "\n",
    "df[\"Binned_Study_Hours\"] = df[\"Study_Hours\"].apply(bin_study_hours)\n",
    "df.head()\n"
   ]
  },
  {
   "cell_type": "code",
   "execution_count": 14,
   "id": "49ceabd5-8a4d-4836-a402-aa0c4a6e566e",
   "metadata": {},
   "outputs": [
    {
     "name": "stdout",
     "output_type": "stream",
     "text": [
      "Binned Study_Hours:\n",
      "['Medium', 'Medium', 'High', 'Medium', 'High', 'Low', 'High']\n"
     ]
    }
   ],
   "source": [
    "print(\"Binned Study_Hours:\")\n",
    "print(df[\"Binned_Study_Hours\"].tolist())"
   ]
  },
  {
   "cell_type": "code",
   "execution_count": 15,
   "id": "b2d28c67-2f48-4343-a1c9-600f5224cc82",
   "metadata": {},
   "outputs": [
    {
     "data": {
      "text/html": [
       "<div>\n",
       "<style scoped>\n",
       "    .dataframe tbody tr th:only-of-type {\n",
       "        vertical-align: middle;\n",
       "    }\n",
       "\n",
       "    .dataframe tbody tr th {\n",
       "        vertical-align: top;\n",
       "    }\n",
       "\n",
       "    .dataframe thead th {\n",
       "        text-align: right;\n",
       "    }\n",
       "</style>\n",
       "<table border=\"1\" class=\"dataframe\">\n",
       "  <thead>\n",
       "    <tr style=\"text-align: right;\">\n",
       "      <th></th>\n",
       "      <th>Student</th>\n",
       "      <th>Math_Score</th>\n",
       "      <th>Study_Hours</th>\n",
       "      <th>Study_Group</th>\n",
       "      <th>Normalized_study_hours</th>\n",
       "      <th>Binned_Study_Hours</th>\n",
       "      <th>Encoded_Study_Group</th>\n",
       "    </tr>\n",
       "  </thead>\n",
       "  <tbody>\n",
       "    <tr>\n",
       "      <th>0</th>\n",
       "      <td>A</td>\n",
       "      <td>85</td>\n",
       "      <td>10</td>\n",
       "      <td>Intermediate</td>\n",
       "      <td>0.615385</td>\n",
       "      <td>Medium</td>\n",
       "      <td>2</td>\n",
       "    </tr>\n",
       "    <tr>\n",
       "      <th>1</th>\n",
       "      <td>B</td>\n",
       "      <td>78</td>\n",
       "      <td>8</td>\n",
       "      <td>Beginner</td>\n",
       "      <td>0.461538</td>\n",
       "      <td>Medium</td>\n",
       "      <td>1</td>\n",
       "    </tr>\n",
       "    <tr>\n",
       "      <th>2</th>\n",
       "      <td>C</td>\n",
       "      <td>90</td>\n",
       "      <td>12</td>\n",
       "      <td>Advanced</td>\n",
       "      <td>0.769231</td>\n",
       "      <td>High</td>\n",
       "      <td>0</td>\n",
       "    </tr>\n",
       "    <tr>\n",
       "      <th>3</th>\n",
       "      <td>D</td>\n",
       "      <td>85</td>\n",
       "      <td>6</td>\n",
       "      <td>Beginner</td>\n",
       "      <td>0.307692</td>\n",
       "      <td>Medium</td>\n",
       "      <td>1</td>\n",
       "    </tr>\n",
       "    <tr>\n",
       "      <th>4</th>\n",
       "      <td>E</td>\n",
       "      <td>95</td>\n",
       "      <td>15</td>\n",
       "      <td>Advanced</td>\n",
       "      <td>1.000000</td>\n",
       "      <td>High</td>\n",
       "      <td>0</td>\n",
       "    </tr>\n",
       "  </tbody>\n",
       "</table>\n",
       "</div>"
      ],
      "text/plain": [
       "  Student  Math_Score  Study_Hours   Study_Group  Normalized_study_hours  \\\n",
       "0       A          85           10  Intermediate                0.615385   \n",
       "1       B          78            8      Beginner                0.461538   \n",
       "2       C          90           12      Advanced                0.769231   \n",
       "3       D          85            6      Beginner                0.307692   \n",
       "4       E          95           15      Advanced                1.000000   \n",
       "\n",
       "  Binned_Study_Hours  Encoded_Study_Group  \n",
       "0             Medium                    2  \n",
       "1             Medium                    1  \n",
       "2               High                    0  \n",
       "3             Medium                    1  \n",
       "4               High                    0  "
      ]
     },
     "execution_count": 15,
     "metadata": {},
     "output_type": "execute_result"
    }
   ],
   "source": [
    "label_encoder = LabelEncoder()\n",
    "df[\"Encoded_Study_Group\"] = label_encoder.fit_transform(df[\"Study_Group\"])\n",
    "\n",
    "df.head()"
   ]
  },
  {
   "cell_type": "code",
   "execution_count": 16,
   "id": "2e69c9b2-9467-4501-84cf-e541813a0260",
   "metadata": {},
   "outputs": [
    {
     "name": "stdout",
     "output_type": "stream",
     "text": [
      "Label Encoded Study_Group:\n",
      "[2, 1, 0, 1, 0, 1, 2]\n"
     ]
    }
   ],
   "source": [
    "print(\"Label Encoded Study_Group:\")\n",
    "print(df[\"Encoded_Study_Group\"].tolist())\n"
   ]
  },
  {
   "cell_type": "code",
   "execution_count": null,
   "id": "bce9d3f2-34e7-4828-b9c1-ada1eebe0f9a",
   "metadata": {},
   "outputs": [],
   "source": []
  }
 ],
 "metadata": {
  "kernelspec": {
   "display_name": "Python 3 (ipykernel)",
   "language": "python",
   "name": "python3"
  },
  "language_info": {
   "codemirror_mode": {
    "name": "ipython",
    "version": 3
   },
   "file_extension": ".py",
   "mimetype": "text/x-python",
   "name": "python",
   "nbconvert_exporter": "python",
   "pygments_lexer": "ipython3",
   "version": "3.12.7"
  }
 },
 "nbformat": 4,
 "nbformat_minor": 5
}
