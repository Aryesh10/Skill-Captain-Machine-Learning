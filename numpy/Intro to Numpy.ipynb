{
 "cells": [
  {
   "cell_type": "code",
   "execution_count": 3,
   "id": "407baea2-7247-4394-8313-3c0d90263c91",
   "metadata": {},
   "outputs": [
    {
     "name": "stdout",
     "output_type": "stream",
     "text": [
      "Requirement already satisfied: numpy in c:\\users\\aryes\\anaconda3\\lib\\site-packages (1.26.4)\n",
      "Note: you may need to restart the kernel to use updated packages.\n"
     ]
    }
   ],
   "source": [
    "pip install numpy"
   ]
  },
  {
   "cell_type": "code",
   "execution_count": 6,
   "id": "8e71e576-31f6-4b71-9a55-64f6eeb5552f",
   "metadata": {},
   "outputs": [
    {
     "name": "stdout",
     "output_type": "stream",
     "text": [
      "1.26.4\n"
     ]
    }
   ],
   "source": [
    "\n",
    "\n",
    "import numpy as np\n",
    "\n",
    "print(np.__version__)"
   ]
  },
  {
   "cell_type": "code",
   "execution_count": 12,
   "id": "7a7e06e6-88d5-41aa-97b6-78592c73ef84",
   "metadata": {},
   "outputs": [
    {
     "name": "stdout",
     "output_type": "stream",
     "text": [
      "1D array:\n",
      " [1 2 3 4 5]\n",
      "\n",
      "2D Array of Zeros:\n",
      " [[0. 0. 0.]\n",
      " [0. 0. 0.]\n",
      " [0. 0. 0.]]\n",
      "\n",
      "3x3 Array of Ones:\n",
      " [[1. 1. 1.]\n",
      " [1. 1. 1.]\n",
      " [1. 1. 1.]]\n",
      "\n",
      "Random 4x4 Array:\n",
      " [[0.34040201 0.1122435  0.25530618 0.22726736]\n",
      " [0.67104973 0.80062963 0.78042014 0.78130636]\n",
      " [0.55195436 0.43870786 0.76385094 0.5593683 ]\n",
      " [0.84400314 0.13281477 0.81262726 0.62319782]]\n"
     ]
    }
   ],
   "source": [
    "#task2\n",
    "\n",
    "arr_1d=np.array([1,2,3,4,5])\n",
    "arr_2d=np.zeros((3,3))\n",
    "arr_3x3=np.ones((3,3))\n",
    "arr_random=np.random.random((4,4))\n",
    "\n",
    "print(f\"1D array:\\n {arr_1d}\\n\")\n",
    "print(f\"2D Array of Zeros:\\n {arr_2d}\\n\")\n",
    "print(f\"3x3 Array of Ones:\\n {arr_3x3}\\n\")\n",
    "print(f\"Random 4x4 Array:\\n {arr_random}\")"
   ]
  },
  {
   "cell_type": "code",
   "execution_count": 18,
   "id": "f9499ba7-2f0e-4669-8a15-8274611a889e",
   "metadata": {},
   "outputs": [
    {
     "name": "stdout",
     "output_type": "stream",
     "text": [
      "Addition : \n",
      " [[ 6  8]\n",
      " [10 12]] \n",
      "\n",
      "Multiplication : \n",
      " [[ 5 12]\n",
      " [21 32]] \n",
      "\n",
      "Matrix Multiplication : \n",
      " [[19 22]\n",
      " [43 50]] \n",
      "\n"
     ]
    }
   ],
   "source": [
    "x=np.array([[1,2],[3,4]])\n",
    "y=np.array([[5,6],[7,8]])\n",
    "\n",
    "print(f\"Addition : \\n {x+y} \\n\")\n",
    "print(f\"Multiplication : \\n {x*y} \\n\")\n",
    "print(f\"Matrix Multiplication : \\n {x@y} \\n\")"
   ]
  },
  {
   "cell_type": "code",
   "execution_count": 23,
   "id": "9b713904-d5c4-4716-8192-2cdf9e4a34ff",
   "metadata": {},
   "outputs": [
    {
     "name": "stdout",
     "output_type": "stream",
     "text": [
      "Matrix 5x5 : \n",
      " [[90  6 75 18 95]\n",
      " [44 83 96 47 26]\n",
      " [89 15 96 91 29]\n",
      " [ 5  5 74  2 81]\n",
      " [16 95 80 41 78]]\n",
      "\n",
      "Mean : 55.08 \n",
      "\n",
      "Standard Deviation : 34.763106880714794\n",
      "\n",
      "Normalized Matrix :\n",
      " [[ 1.00451321 -1.41184159  0.57302128 -1.06664805  1.14834385]\n",
      " [-0.3187287   0.80315031  1.17710998 -0.23243032 -0.83651902]\n",
      " [ 0.97574708 -1.15294643  1.17710998  1.03327934 -0.75022063]\n",
      " [-1.44060772 -1.44060772  0.54425515 -1.5269061   0.74561805]\n",
      " [-1.1241803   1.14834385  0.71685192 -0.40502709  0.65931967]]\n"
     ]
    }
   ],
   "source": [
    "mat= np.random.randint(0,100,(5,5))\n",
    "\n",
    "mean=np.mean(mat)\n",
    "std_dev=np.std(mat)\n",
    "\n",
    "normalize=(mat-mean)/std_dev\n",
    "\n",
    "print(f\"Matrix 5x5 : \\n {mat}\\n\")\n",
    "print(f\"Mean : {mean} \\n\")\n",
    "print(f\"Standard Deviation : {std_dev}\\n\")\n",
    "print(f\"Normalized Matrix :\\n {normalize}\")"
   ]
  },
  {
   "cell_type": "code",
   "execution_count": 27,
   "id": "4368c106-47b9-4fbe-a8ca-e24011044265",
   "metadata": {},
   "outputs": [
    {
     "name": "stdout",
     "output_type": "stream",
     "text": [
      "Sum of Python List: 500000500000, Time Taken: 0.019226 seconds\n",
      "Sum of NumPy Array: 1784293664, Time Taken: 0.000000 seconds\n"
     ]
    }
   ],
   "source": [
    "import time\n",
    "\n",
    "\n",
    "python_list = list(range(1, 1000001))\n",
    "numpy_array = np.arange(1, 1000001)\n",
    "\n",
    "start_time = time.time()\n",
    "sum_python_list = sum(python_list)\n",
    "python_time = time.time() - start_time\n",
    "\n",
    "start_time = time.time()\n",
    "sum_numpy_array = np.sum(numpy_array)\n",
    "numpy_time = time.time() - start_time\n",
    "\n",
    "print(f\"Sum of Python List: {sum_python_list}, Time Taken: {python_time:.6f} seconds\")\n",
    "print(f\"Sum of NumPy Array: {sum_numpy_array}, Time Taken: {numpy_time:.6f} seconds\")"
   ]
  },
  {
   "cell_type": "code",
   "execution_count": null,
   "id": "d8058192-2d24-43df-8958-872b5b0b69ab",
   "metadata": {},
   "outputs": [],
   "source": []
  }
 ],
 "metadata": {
  "kernelspec": {
   "display_name": "Python 3 (ipykernel)",
   "language": "python",
   "name": "python3"
  },
  "language_info": {
   "codemirror_mode": {
    "name": "ipython",
    "version": 3
   },
   "file_extension": ".py",
   "mimetype": "text/x-python",
   "name": "python",
   "nbconvert_exporter": "python",
   "pygments_lexer": "ipython3",
   "version": "3.12.7"
  }
 },
 "nbformat": 4,
 "nbformat_minor": 5
}
